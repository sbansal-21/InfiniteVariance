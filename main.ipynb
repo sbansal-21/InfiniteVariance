{
 "cells": [
  {
   "cell_type": "code",
   "execution_count": 1,
   "metadata": {},
   "outputs": [
    {
     "data": {
      "text/plain": [
       "'/Users/sajalbansal/Desktop/test'"
      ]
     },
     "execution_count": 1,
     "metadata": {},
     "output_type": "execute_result"
    }
   ],
   "source": [
    "import numpy as np\n",
    "import matplotlib.pyplot as plt\n",
    "import os\n",
    "import datetime\n",
    "import random\n",
    "import sys\n",
    "import yfinance as yf\n",
    "import statsmodels\n",
    "import arch\n",
    "\n",
    "os.getcwd()"
   ]
  },
  {
   "cell_type": "code",
   "execution_count": 2,
   "metadata": {},
   "outputs": [],
   "source": [
    "today = datetime.datetime.now().today()\n",
    "numbers_of_years = 5\n",
    "start_date = today - datetime.timedelta(numbers_of_years*365)\n",
    "\n",
    "start_date = start_date.strftime(\"%Y-%m-%d\")\n",
    "end_date = today.strftime(\"%Y-%m-%d\")\n",
    "tickers = [\"^SPX\"]"
   ]
  },
  {
   "cell_type": "code",
   "execution_count": 3,
   "metadata": {},
   "outputs": [
    {
     "data": {
      "text/html": [
       "<div>\n",
       "<style scoped>\n",
       "    .dataframe tbody tr th:only-of-type {\n",
       "        vertical-align: middle;\n",
       "    }\n",
       "\n",
       "    .dataframe tbody tr th {\n",
       "        vertical-align: top;\n",
       "    }\n",
       "\n",
       "    .dataframe thead th {\n",
       "        text-align: right;\n",
       "    }\n",
       "</style>\n",
       "<table border=\"1\" class=\"dataframe\">\n",
       "  <thead>\n",
       "    <tr style=\"text-align: right;\">\n",
       "      <th></th>\n",
       "      <th>Open</th>\n",
       "      <th>High</th>\n",
       "      <th>Low</th>\n",
       "      <th>Close</th>\n",
       "      <th>Volume</th>\n",
       "      <th>Dividends</th>\n",
       "      <th>Stock Splits</th>\n",
       "    </tr>\n",
       "    <tr>\n",
       "      <th>Date</th>\n",
       "      <th></th>\n",
       "      <th></th>\n",
       "      <th></th>\n",
       "      <th></th>\n",
       "      <th></th>\n",
       "      <th></th>\n",
       "      <th></th>\n",
       "    </tr>\n",
       "  </thead>\n",
       "  <tbody>\n",
       "    <tr>\n",
       "      <th>2019-04-25 00:00:00-04:00</th>\n",
       "      <td>2928.989990</td>\n",
       "      <td>2933.100098</td>\n",
       "      <td>2912.840088</td>\n",
       "      <td>2926.169922</td>\n",
       "      <td>3440010000</td>\n",
       "      <td>0.0</td>\n",
       "      <td>0.0</td>\n",
       "    </tr>\n",
       "    <tr>\n",
       "      <th>2019-04-26 00:00:00-04:00</th>\n",
       "      <td>2925.810059</td>\n",
       "      <td>2939.879883</td>\n",
       "      <td>2917.560059</td>\n",
       "      <td>2939.879883</td>\n",
       "      <td>3264390000</td>\n",
       "      <td>0.0</td>\n",
       "      <td>0.0</td>\n",
       "    </tr>\n",
       "    <tr>\n",
       "      <th>2019-04-29 00:00:00-04:00</th>\n",
       "      <td>2940.580078</td>\n",
       "      <td>2949.520020</td>\n",
       "      <td>2939.350098</td>\n",
       "      <td>2943.030029</td>\n",
       "      <td>3150390000</td>\n",
       "      <td>0.0</td>\n",
       "      <td>0.0</td>\n",
       "    </tr>\n",
       "    <tr>\n",
       "      <th>2019-04-30 00:00:00-04:00</th>\n",
       "      <td>2937.139893</td>\n",
       "      <td>2948.219971</td>\n",
       "      <td>2924.110107</td>\n",
       "      <td>2945.830078</td>\n",
       "      <td>3939760000</td>\n",
       "      <td>0.0</td>\n",
       "      <td>0.0</td>\n",
       "    </tr>\n",
       "    <tr>\n",
       "      <th>2019-05-01 00:00:00-04:00</th>\n",
       "      <td>2952.330078</td>\n",
       "      <td>2954.129883</td>\n",
       "      <td>2923.360107</td>\n",
       "      <td>2923.729980</td>\n",
       "      <td>3669330000</td>\n",
       "      <td>0.0</td>\n",
       "      <td>0.0</td>\n",
       "    </tr>\n",
       "  </tbody>\n",
       "</table>\n",
       "</div>"
      ],
      "text/plain": [
       "                                  Open         High          Low        Close  \\\n",
       "Date                                                                            \n",
       "2019-04-25 00:00:00-04:00  2928.989990  2933.100098  2912.840088  2926.169922   \n",
       "2019-04-26 00:00:00-04:00  2925.810059  2939.879883  2917.560059  2939.879883   \n",
       "2019-04-29 00:00:00-04:00  2940.580078  2949.520020  2939.350098  2943.030029   \n",
       "2019-04-30 00:00:00-04:00  2937.139893  2948.219971  2924.110107  2945.830078   \n",
       "2019-05-01 00:00:00-04:00  2952.330078  2954.129883  2923.360107  2923.729980   \n",
       "\n",
       "                               Volume  Dividends  Stock Splits  \n",
       "Date                                                            \n",
       "2019-04-25 00:00:00-04:00  3440010000        0.0           0.0  \n",
       "2019-04-26 00:00:00-04:00  3264390000        0.0           0.0  \n",
       "2019-04-29 00:00:00-04:00  3150390000        0.0           0.0  \n",
       "2019-04-30 00:00:00-04:00  3939760000        0.0           0.0  \n",
       "2019-05-01 00:00:00-04:00  3669330000        0.0           0.0  "
      ]
     },
     "execution_count": 3,
     "metadata": {},
     "output_type": "execute_result"
    }
   ],
   "source": [
    "stock_data = yf.Ticker(tickers[0])\n",
    "historical_data = stock_data.history(start=start_date, end=end_date)\n",
    "historical_data.head()"
   ]
  },
  {
   "cell_type": "code",
   "execution_count": 4,
   "metadata": {},
   "outputs": [
    {
     "name": "stdout",
     "output_type": "stream",
     "text": [
      "3895.1530157679495\n"
     ]
    }
   ],
   "source": [
    "y = historical_data.loc[:,\"Close\"]\n",
    "print(np.mean(y))"
   ]
  }
 ],
 "metadata": {
  "kernelspec": {
   "display_name": ".venv",
   "language": "python",
   "name": "python3"
  },
  "language_info": {
   "codemirror_mode": {
    "name": "ipython",
    "version": 3
   },
   "file_extension": ".py",
   "mimetype": "text/x-python",
   "name": "python",
   "nbconvert_exporter": "python",
   "pygments_lexer": "ipython3",
   "version": "3.11.5"
  }
 },
 "nbformat": 4,
 "nbformat_minor": 2
}

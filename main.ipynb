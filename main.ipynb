{
 "cells": [
  {
   "cell_type": "code",
   "execution_count": 8,
   "metadata": {},
   "outputs": [
    {
     "data": {
      "text/plain": [
       "'/Users/sajalbansal/Desktop/test'"
      ]
     },
     "execution_count": 8,
     "metadata": {},
     "output_type": "execute_result"
    }
   ],
   "source": [
    "import numpy as np\n",
    "import matplotlib.pyplot as plt\n",
    "import os\n",
    "import datetime\n",
    "import random\n",
    "import sys\n",
    "import yfinance as yf\n",
    "import statsmodels\n",
    "import arch\n",
    "\n",
    "os.getcwd()"
   ]
  },
  {
   "cell_type": "code",
   "execution_count": 12,
   "metadata": {},
   "outputs": [],
   "source": [
    "today = datetime.datetime.now().today()\n",
    "numbers_of_years = 5\n",
    "start_date = today - datetime.timedelta(numbers_of_years*365)\n",
    "\n",
    "start_date = start_date.strftime(\"%Y-%m-%d\")\n",
    "end_date = today.strftime(\"%Y-%m-%d\")\n",
    "tickers = [\"^SPX\"]"
   ]
  },
  {
   "cell_type": "code",
   "execution_count": 13,
   "metadata": {},
   "outputs": [
    {
     "data": {
      "text/html": [
       "<div>\n",
       "<style scoped>\n",
       "    .dataframe tbody tr th:only-of-type {\n",
       "        vertical-align: middle;\n",
       "    }\n",
       "\n",
       "    .dataframe tbody tr th {\n",
       "        vertical-align: top;\n",
       "    }\n",
       "\n",
       "    .dataframe thead th {\n",
       "        text-align: right;\n",
       "    }\n",
       "</style>\n",
       "<table border=\"1\" class=\"dataframe\">\n",
       "  <thead>\n",
       "    <tr style=\"text-align: right;\">\n",
       "      <th></th>\n",
       "      <th>Open</th>\n",
       "      <th>High</th>\n",
       "      <th>Low</th>\n",
       "      <th>Close</th>\n",
       "      <th>Volume</th>\n",
       "      <th>Dividends</th>\n",
       "      <th>Stock Splits</th>\n",
       "    </tr>\n",
       "    <tr>\n",
       "      <th>Date</th>\n",
       "      <th></th>\n",
       "      <th></th>\n",
       "      <th></th>\n",
       "      <th></th>\n",
       "      <th></th>\n",
       "      <th></th>\n",
       "      <th></th>\n",
       "    </tr>\n",
       "  </thead>\n",
       "  <tbody>\n",
       "    <tr>\n",
       "      <th>2019-04-02 00:00:00-04:00</th>\n",
       "      <td>2868.239990</td>\n",
       "      <td>2872.899902</td>\n",
       "      <td>2858.750000</td>\n",
       "      <td>2867.239990</td>\n",
       "      <td>3267210000</td>\n",
       "      <td>0.0</td>\n",
       "      <td>0.0</td>\n",
       "    </tr>\n",
       "    <tr>\n",
       "      <th>2019-04-03 00:00:00-04:00</th>\n",
       "      <td>2876.090088</td>\n",
       "      <td>2885.250000</td>\n",
       "      <td>2865.169922</td>\n",
       "      <td>2873.399902</td>\n",
       "      <td>3570000000</td>\n",
       "      <td>0.0</td>\n",
       "      <td>0.0</td>\n",
       "    </tr>\n",
       "    <tr>\n",
       "      <th>2019-04-04 00:00:00-04:00</th>\n",
       "      <td>2873.989990</td>\n",
       "      <td>2881.280029</td>\n",
       "      <td>2867.139893</td>\n",
       "      <td>2879.389893</td>\n",
       "      <td>3038740000</td>\n",
       "      <td>0.0</td>\n",
       "      <td>0.0</td>\n",
       "    </tr>\n",
       "    <tr>\n",
       "      <th>2019-04-05 00:00:00-04:00</th>\n",
       "      <td>2884.159912</td>\n",
       "      <td>2893.239990</td>\n",
       "      <td>2882.989990</td>\n",
       "      <td>2892.739990</td>\n",
       "      <td>3155970000</td>\n",
       "      <td>0.0</td>\n",
       "      <td>0.0</td>\n",
       "    </tr>\n",
       "    <tr>\n",
       "      <th>2019-04-08 00:00:00-04:00</th>\n",
       "      <td>2888.459961</td>\n",
       "      <td>2895.949951</td>\n",
       "      <td>2880.780029</td>\n",
       "      <td>2895.770020</td>\n",
       "      <td>3056460000</td>\n",
       "      <td>0.0</td>\n",
       "      <td>0.0</td>\n",
       "    </tr>\n",
       "  </tbody>\n",
       "</table>\n",
       "</div>"
      ],
      "text/plain": [
       "                                  Open         High          Low        Close  \\\n",
       "Date                                                                            \n",
       "2019-04-02 00:00:00-04:00  2868.239990  2872.899902  2858.750000  2867.239990   \n",
       "2019-04-03 00:00:00-04:00  2876.090088  2885.250000  2865.169922  2873.399902   \n",
       "2019-04-04 00:00:00-04:00  2873.989990  2881.280029  2867.139893  2879.389893   \n",
       "2019-04-05 00:00:00-04:00  2884.159912  2893.239990  2882.989990  2892.739990   \n",
       "2019-04-08 00:00:00-04:00  2888.459961  2895.949951  2880.780029  2895.770020   \n",
       "\n",
       "                               Volume  Dividends  Stock Splits  \n",
       "Date                                                            \n",
       "2019-04-02 00:00:00-04:00  3267210000        0.0           0.0  \n",
       "2019-04-03 00:00:00-04:00  3570000000        0.0           0.0  \n",
       "2019-04-04 00:00:00-04:00  3038740000        0.0           0.0  \n",
       "2019-04-05 00:00:00-04:00  3155970000        0.0           0.0  \n",
       "2019-04-08 00:00:00-04:00  3056460000        0.0           0.0  "
      ]
     },
     "execution_count": 13,
     "metadata": {},
     "output_type": "execute_result"
    }
   ],
   "source": [
    "stock_data = yf.Ticker(tickers[0])\n",
    "historical_data = stock_data.history(start=start_date, end=end_date)\n",
    "historical_data.head()"
   ]
  },
  {
   "cell_type": "code",
   "execution_count": 16,
   "metadata": {},
   "outputs": [
    {
     "name": "stdout",
     "output_type": "stream",
     "text": [
      "3866.7721715424873\n"
     ]
    }
   ],
   "source": [
    "y = historical_data.loc[:,\"Close\"]\n",
    "print(np.mean(y))"
   ]
  },
  {
   "cell_type": "code",
   "execution_count": null,
   "metadata": {},
   "outputs": [],
   "source": []
  }
 ],
 "metadata": {
  "kernelspec": {
   "display_name": ".venv",
   "language": "python",
   "name": "python3"
  },
  "language_info": {
   "codemirror_mode": {
    "name": "ipython",
    "version": 3
   },
   "file_extension": ".py",
   "mimetype": "text/x-python",
   "name": "python",
   "nbconvert_exporter": "python",
   "pygments_lexer": "ipython3",
   "version": "3.11.5"
  }
 },
 "nbformat": 4,
 "nbformat_minor": 2
}
